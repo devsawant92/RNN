{
 "cells": [
  {
   "cell_type": "markdown",
   "metadata": {},
   "source": [
    "Git-Hub:- https://github.com/devsawant92/RNN"
   ]
  },
  {
   "cell_type": "code",
   "execution_count": 1,
   "metadata": {
    "collapsed": true
   },
   "outputs": [],
   "source": [
    "#import libraries\n",
    "import numpy as np\n",
    "import matplotlib.pyplot as plt\n",
    "import pandas as pd"
   ]
  },
  {
   "cell_type": "markdown",
   "metadata": {},
   "source": [
    "Split the data into train and test datasets"
   ]
  },
  {
   "cell_type": "code",
   "execution_count": 2,
   "metadata": {
    "collapsed": true
   },
   "outputs": [],
   "source": [
    "#load data\n",
    "dataset_train = pd.read_csv('IBM_train.csv')\n",
    "training_set = dataset_train.iloc[:,1:2].values"
   ]
  },
  {
   "cell_type": "code",
   "execution_count": 3,
   "metadata": {},
   "outputs": [
    {
     "data": {
      "text/plain": [
       "array([[ 206.710007],\n",
       "       [ 207.179993],\n",
       "       [ 206.970001],\n",
       "       ..., \n",
       "       [ 159.639999],\n",
       "       [ 160.089996],\n",
       "       [ 160.169998]])"
      ]
     },
     "execution_count": 3,
     "metadata": {},
     "output_type": "execute_result"
    }
   ],
   "source": [
    "training_set"
   ]
  },
  {
   "cell_type": "code",
   "execution_count": 4,
   "metadata": {},
   "outputs": [],
   "source": [
    "#scale the features\n",
    "from sklearn.preprocessing import MinMaxScaler\n",
    "sc = MinMaxScaler(feature_range = (0,1))\n",
    "training_set_scaled = sc.fit_transform(training_set)"
   ]
  },
  {
   "cell_type": "code",
   "execution_count": 5,
   "metadata": {},
   "outputs": [
    {
     "data": {
      "text/plain": [
       "array([[ 0.91054481],\n",
       "       [ 0.91539402],\n",
       "       [ 0.91322737],\n",
       "       ..., \n",
       "       [ 0.42488648],\n",
       "       [ 0.42952945],\n",
       "       [ 0.43035489]])"
      ]
     },
     "execution_count": 5,
     "metadata": {},
     "output_type": "execute_result"
    }
   ],
   "source": [
    "training_set_scaled"
   ]
  },
  {
   "cell_type": "code",
   "execution_count": 6,
   "metadata": {
    "collapsed": true
   },
   "outputs": [],
   "source": [
    "#create the train data\n",
    "X_train = []\n",
    "y_train = []\n",
    "for i in range(60, 1478):\n",
    "    X_train.append(training_set_scaled[i-60:i, 0])\n",
    "    y_train.append(training_set_scaled[i, 0])\n",
    "X_train, y_train = np.array(X_train), np.array(y_train)"
   ]
  },
  {
   "cell_type": "code",
   "execution_count": 7,
   "metadata": {},
   "outputs": [
    {
     "data": {
      "text/plain": [
       "array([[ 0.91054481,  0.91539402,  0.91322737, ...,  0.78033422,\n",
       "         0.73586459,  0.74762685],\n",
       "       [ 0.91539402,  0.91322737,  0.92664052, ...,  0.73586459,\n",
       "         0.74762685,  0.741333  ],\n",
       "       [ 0.91322737,  0.92664052,  0.90806847, ...,  0.74762685,\n",
       "         0.741333  ,  0.77414364],\n",
       "       ..., \n",
       "       [ 0.4007429 ,  0.39352048,  0.3728849 , ...,  0.37701196,\n",
       "         0.4182831 ,  0.4024969 ],\n",
       "       [ 0.39352048,  0.3728849 ,  0.36267024, ...,  0.4182831 ,\n",
       "         0.4024969 ,  0.42488648],\n",
       "       [ 0.3728849 ,  0.36267024,  0.36246383, ...,  0.4024969 ,\n",
       "         0.42488648,  0.42952945]])"
      ]
     },
     "execution_count": 7,
     "metadata": {},
     "output_type": "execute_result"
    }
   ],
   "source": [
    "X_train"
   ]
  },
  {
   "cell_type": "code",
   "execution_count": 8,
   "metadata": {},
   "outputs": [
    {
     "data": {
      "text/plain": [
       "array([ 0.741333  ,  0.77414364,  0.79075529, ...,  0.42488648,\n",
       "        0.42952945,  0.43035489])"
      ]
     },
     "execution_count": 8,
     "metadata": {},
     "output_type": "execute_result"
    }
   ],
   "source": [
    "y_train"
   ]
  },
  {
   "cell_type": "code",
   "execution_count": 9,
   "metadata": {
    "collapsed": true
   },
   "outputs": [],
   "source": [
    "X_train = np.reshape(X_train, (X_train.shape[0],X_train.shape[1],1))"
   ]
  },
  {
   "cell_type": "code",
   "execution_count": 10,
   "metadata": {},
   "outputs": [
    {
     "data": {
      "text/plain": [
       "array([[[ 0.91054481],\n",
       "        [ 0.91539402],\n",
       "        [ 0.91322737],\n",
       "        ..., \n",
       "        [ 0.78033422],\n",
       "        [ 0.73586459],\n",
       "        [ 0.74762685]],\n",
       "\n",
       "       [[ 0.91539402],\n",
       "        [ 0.91322737],\n",
       "        [ 0.92664052],\n",
       "        ..., \n",
       "        [ 0.73586459],\n",
       "        [ 0.74762685],\n",
       "        [ 0.741333  ]],\n",
       "\n",
       "       [[ 0.91322737],\n",
       "        [ 0.92664052],\n",
       "        [ 0.90806847],\n",
       "        ..., \n",
       "        [ 0.74762685],\n",
       "        [ 0.741333  ],\n",
       "        [ 0.77414364]],\n",
       "\n",
       "       ..., \n",
       "       [[ 0.4007429 ],\n",
       "        [ 0.39352048],\n",
       "        [ 0.3728849 ],\n",
       "        ..., \n",
       "        [ 0.37701196],\n",
       "        [ 0.4182831 ],\n",
       "        [ 0.4024969 ]],\n",
       "\n",
       "       [[ 0.39352048],\n",
       "        [ 0.3728849 ],\n",
       "        [ 0.36267024],\n",
       "        ..., \n",
       "        [ 0.4182831 ],\n",
       "        [ 0.4024969 ],\n",
       "        [ 0.42488648]],\n",
       "\n",
       "       [[ 0.3728849 ],\n",
       "        [ 0.36267024],\n",
       "        [ 0.36246383],\n",
       "        ..., \n",
       "        [ 0.4024969 ],\n",
       "        [ 0.42488648],\n",
       "        [ 0.42952945]]])"
      ]
     },
     "execution_count": 10,
     "metadata": {},
     "output_type": "execute_result"
    }
   ],
   "source": [
    "X_train"
   ]
  },
  {
   "cell_type": "code",
   "execution_count": 11,
   "metadata": {},
   "outputs": [
    {
     "name": "stderr",
     "output_type": "stream",
     "text": [
      "Using TensorFlow backend.\n"
     ]
    }
   ],
   "source": [
    "#import Keras\n",
    "from keras.models import Sequential\n",
    "from keras.layers import Dense\n",
    "from keras.layers import LSTM\n",
    "from keras.layers import Dropout"
   ]
  },
  {
   "cell_type": "code",
   "execution_count": 12,
   "metadata": {
    "collapsed": true
   },
   "outputs": [],
   "source": [
    "#define NN\n",
    "regressor = Sequential()"
   ]
  },
  {
   "cell_type": "code",
   "execution_count": 13,
   "metadata": {
    "collapsed": true
   },
   "outputs": [],
   "source": [
    "regressor.add(LSTM(units = 50, return_sequences= True, input_shape = (X_train.shape[1],1)))\n",
    "regressor.add(Dropout(0.2))"
   ]
  },
  {
   "cell_type": "code",
   "execution_count": 14,
   "metadata": {
    "collapsed": true
   },
   "outputs": [],
   "source": [
    "regressor.add(LSTM(units = 50, return_sequences= True))\n",
    "regressor.add(Dropout(0.2))"
   ]
  },
  {
   "cell_type": "code",
   "execution_count": 15,
   "metadata": {
    "collapsed": true
   },
   "outputs": [],
   "source": [
    "regressor.add(LSTM(units = 50, return_sequences= True))\n",
    "regressor.add(Dropout(0.2))"
   ]
  },
  {
   "cell_type": "code",
   "execution_count": 16,
   "metadata": {
    "collapsed": true
   },
   "outputs": [],
   "source": [
    "regressor.add(LSTM(units = 50))\n",
    "regressor.add(Dropout(0.2))"
   ]
  },
  {
   "cell_type": "code",
   "execution_count": 17,
   "metadata": {
    "collapsed": true
   },
   "outputs": [],
   "source": [
    "regressor.add(Dense(units = 1))"
   ]
  },
  {
   "cell_type": "code",
   "execution_count": 18,
   "metadata": {
    "collapsed": true
   },
   "outputs": [],
   "source": [
    "#compile NN\n",
    "regressor.compile(optimizer='adam', loss='mean_squared_error')"
   ]
  },
  {
   "cell_type": "code",
   "execution_count": 19,
   "metadata": {},
   "outputs": [
    {
     "name": "stdout",
     "output_type": "stream",
     "text": [
      "Epoch 1/100\n",
      "1418/1418 [==============================] - 7s 5ms/step - loss: 0.0459\n",
      "Epoch 2/100\n",
      "1418/1418 [==============================] - 5s 3ms/step - loss: 0.0086\n",
      "Epoch 3/100\n",
      "1418/1418 [==============================] - 5s 3ms/step - loss: 0.0069\n",
      "Epoch 4/100\n",
      "1418/1418 [==============================] - 5s 3ms/step - loss: 0.0067\n",
      "Epoch 5/100\n",
      "1418/1418 [==============================] - 5s 3ms/step - loss: 0.0058\n",
      "Epoch 6/100\n",
      "1418/1418 [==============================] - 5s 3ms/step - loss: 0.0067\n",
      "Epoch 7/100\n",
      "1418/1418 [==============================] - 5s 3ms/step - loss: 0.0059\n",
      "Epoch 8/100\n",
      "1418/1418 [==============================] - 5s 3ms/step - loss: 0.0056\n",
      "Epoch 9/100\n",
      "1418/1418 [==============================] - 5s 3ms/step - loss: 0.0052\n",
      "Epoch 10/100\n",
      "1418/1418 [==============================] - 5s 3ms/step - loss: 0.0055\n",
      "Epoch 11/100\n",
      "1418/1418 [==============================] - 5s 3ms/step - loss: 0.0052\n",
      "Epoch 12/100\n",
      "1418/1418 [==============================] - 5s 3ms/step - loss: 0.0048\n",
      "Epoch 13/100\n",
      "1418/1418 [==============================] - 5s 3ms/step - loss: 0.0054\n",
      "Epoch 14/100\n",
      "1418/1418 [==============================] - 5s 3ms/step - loss: 0.0044\n",
      "Epoch 15/100\n",
      "1418/1418 [==============================] - 5s 3ms/step - loss: 0.0049\n",
      "Epoch 16/100\n",
      "1418/1418 [==============================] - 5s 3ms/step - loss: 0.0041\n",
      "Epoch 17/100\n",
      "1418/1418 [==============================] - 5s 3ms/step - loss: 0.0040\n",
      "Epoch 18/100\n",
      "1418/1418 [==============================] - 5s 3ms/step - loss: 0.0040\n",
      "Epoch 19/100\n",
      "1418/1418 [==============================] - 5s 3ms/step - loss: 0.0037\n",
      "Epoch 20/100\n",
      "1418/1418 [==============================] - 5s 3ms/step - loss: 0.0041\n",
      "Epoch 21/100\n",
      "1418/1418 [==============================] - 5s 3ms/step - loss: 0.0037\n",
      "Epoch 22/100\n",
      "1418/1418 [==============================] - 5s 3ms/step - loss: 0.0036\n",
      "Epoch 23/100\n",
      "1418/1418 [==============================] - 5s 3ms/step - loss: 0.0034\n",
      "Epoch 24/100\n",
      "1418/1418 [==============================] - 5s 3ms/step - loss: 0.0035\n",
      "Epoch 25/100\n",
      "1418/1418 [==============================] - 5s 3ms/step - loss: 0.0036\n",
      "Epoch 26/100\n",
      "1418/1418 [==============================] - 5s 3ms/step - loss: 0.0033A - ETA:\n",
      "Epoch 27/100\n",
      "1418/1418 [==============================] - 5s 3ms/step - loss: 0.0032A: 2s  - ETA: 0s - loss:\n",
      "Epoch 28/100\n",
      "1418/1418 [==============================] - 5s 3ms/step - loss: 0.0033\n",
      "Epoch 29/100\n",
      "1418/1418 [==============================] - 5s 3ms/step - loss: 0.0031\n",
      "Epoch 30/100\n",
      "1418/1418 [==============================] - 5s 3ms/step - loss: 0.0031\n",
      "Epoch 31/100\n",
      "1418/1418 [==============================] - 5s 3ms/step - loss: 0.0031\n",
      "Epoch 32/100\n",
      "1418/1418 [==============================] - 5s 3ms/step - loss: 0.0029\n",
      "Epoch 33/100\n",
      "1418/1418 [==============================] - 5s 3ms/step - loss: 0.0027\n",
      "Epoch 34/100\n",
      "1418/1418 [==============================] - 5s 3ms/step - loss: 0.0027\n",
      "Epoch 35/100\n",
      "1418/1418 [==============================] - 5s 3ms/step - loss: 0.0028\n",
      "Epoch 36/100\n",
      "1418/1418 [==============================] - 5s 3ms/step - loss: 0.0026\n",
      "Epoch 37/100\n",
      "1418/1418 [==============================] - 5s 3ms/step - loss: 0.0027\n",
      "Epoch 38/100\n",
      "1418/1418 [==============================] - 5s 3ms/step - loss: 0.0024\n",
      "Epoch 39/100\n",
      "1418/1418 [==============================] - 5s 3ms/step - loss: 0.0025\n",
      "Epoch 40/100\n",
      "1418/1418 [==============================] - 5s 3ms/step - loss: 0.0025\n",
      "Epoch 41/100\n",
      "1418/1418 [==============================] - 5s 3ms/step - loss: 0.0025\n",
      "Epoch 42/100\n",
      "1418/1418 [==============================] - 5s 3ms/step - loss: 0.0029\n",
      "Epoch 43/100\n",
      "1418/1418 [==============================] - 5s 3ms/step - loss: 0.0023\n",
      "Epoch 44/100\n",
      "1418/1418 [==============================] - 5s 3ms/step - loss: 0.0026\n",
      "Epoch 45/100\n",
      "1418/1418 [==============================] - 5s 3ms/step - loss: 0.0023\n",
      "Epoch 46/100\n",
      "1418/1418 [==============================] - 5s 3ms/step - loss: 0.0024\n",
      "Epoch 47/100\n",
      "1418/1418 [==============================] - 5s 3ms/step - loss: 0.0024\n",
      "Epoch 48/100\n",
      "1418/1418 [==============================] - 5s 3ms/step - loss: 0.0022\n",
      "Epoch 49/100\n",
      "1418/1418 [==============================] - 5s 3ms/step - loss: 0.0026\n",
      "Epoch 50/100\n",
      "1418/1418 [==============================] - 5s 3ms/step - loss: 0.0023\n",
      "Epoch 51/100\n",
      "1418/1418 [==============================] - 5s 3ms/step - loss: 0.0022\n",
      "Epoch 52/100\n",
      "1418/1418 [==============================] - 5s 3ms/step - loss: 0.0023\n",
      "Epoch 53/100\n",
      "1418/1418 [==============================] - 5s 3ms/step - loss: 0.0022\n",
      "Epoch 54/100\n",
      "1418/1418 [==============================] - 4s 3ms/step - loss: 0.0021\n",
      "Epoch 55/100\n",
      "1418/1418 [==============================] - 5s 3ms/step - loss: 0.0022\n",
      "Epoch 56/100\n",
      "1418/1418 [==============================] - 5s 3ms/step - loss: 0.0020\n",
      "Epoch 57/100\n",
      "1418/1418 [==============================] - 5s 3ms/step - loss: 0.0021\n",
      "Epoch 58/100\n",
      "1418/1418 [==============================] - 5s 3ms/step - loss: 0.0019\n",
      "Epoch 59/100\n",
      "1418/1418 [==============================] - 5s 3ms/step - loss: 0.0020\n",
      "Epoch 60/100\n",
      "1418/1418 [==============================] - 5s 3ms/step - loss: 0.0019\n",
      "Epoch 61/100\n",
      "1418/1418 [==============================] - 5s 3ms/step - loss: 0.0018\n",
      "Epoch 62/100\n",
      "1418/1418 [==============================] - 5s 3ms/step - loss: 0.0017\n",
      "Epoch 63/100\n",
      "1418/1418 [==============================] - 5s 3ms/step - loss: 0.0018\n",
      "Epoch 64/100\n",
      "1418/1418 [==============================] - 5s 3ms/step - loss: 0.0020\n",
      "Epoch 65/100\n",
      "1418/1418 [==============================] - 5s 3ms/step - loss: 0.0018\n",
      "Epoch 66/100\n",
      "1418/1418 [==============================] - 5s 3ms/step - loss: 0.0018\n",
      "Epoch 67/100\n",
      "1418/1418 [==============================] - 5s 3ms/step - loss: 0.0018\n",
      "Epoch 68/100\n",
      "1418/1418 [==============================] - 5s 3ms/step - loss: 0.0017A:\n",
      "Epoch 69/100\n",
      "1418/1418 [==============================] - 5s 3ms/step - loss: 0.0017\n",
      "Epoch 70/100\n",
      "1418/1418 [==============================] - 5s 3ms/step - loss: 0.0015\n",
      "Epoch 71/100\n",
      "1418/1418 [==============================] - 5s 3ms/step - loss: 0.0016\n",
      "Epoch 72/100\n",
      "1418/1418 [==============================] - 5s 3ms/step - loss: 0.0015A: 2s - loss: 0.001 - E\n",
      "Epoch 73/100\n",
      "1418/1418 [==============================] - 5s 3ms/step - loss: 0.0015\n",
      "Epoch 74/100\n",
      "1418/1418 [==============================] - 5s 3ms/step - loss: 0.0016\n",
      "Epoch 75/100\n",
      "1418/1418 [==============================] - 4s 3ms/step - loss: 0.0016\n",
      "Epoch 76/100\n",
      "1418/1418 [==============================] - 5s 3ms/step - loss: 0.0014\n",
      "Epoch 77/100\n",
      "1418/1418 [==============================] - 5s 3ms/step - loss: 0.0015\n",
      "Epoch 78/100\n",
      "1418/1418 [==============================] - 5s 3ms/step - loss: 0.0017\n",
      "Epoch 79/100\n",
      "1418/1418 [==============================] - 5s 3ms/step - loss: 0.0016\n",
      "Epoch 80/100\n",
      "1418/1418 [==============================] - 5s 3ms/step - loss: 0.0014\n",
      "Epoch 81/100\n",
      "1418/1418 [==============================] - 5s 3ms/step - loss: 0.0014\n",
      "Epoch 82/100\n",
      "1418/1418 [==============================] - 5s 3ms/step - loss: 0.0016\n",
      "Epoch 83/100\n",
      "1418/1418 [==============================] - 5s 3ms/step - loss: 0.0014\n",
      "Epoch 84/100\n",
      "1418/1418 [==============================] - 5s 3ms/step - loss: 0.0015\n",
      "Epoch 85/100\n",
      "1418/1418 [==============================] - 5s 3ms/step - loss: 0.0015\n",
      "Epoch 86/100\n",
      "1418/1418 [==============================] - 5s 3ms/step - loss: 0.0013A: 3s - l \n",
      "Epoch 87/100\n",
      "1418/1418 [==============================] - 5s 3ms/step - loss: 0.0013\n",
      "Epoch 88/100\n",
      "1418/1418 [==============================] - 5s 3ms/step - loss: 0.0013\n",
      "Epoch 89/100\n",
      "1418/1418 [==============================] - 5s 3ms/step - loss: 0.0014\n",
      "Epoch 90/100\n",
      "1418/1418 [==============================] - 5s 3ms/step - loss: 0.0013\n",
      "Epoch 91/100\n",
      "1418/1418 [==============================] - 5s 3ms/step - loss: 0.0012A: 0s - loss: 0.\n",
      "Epoch 92/100\n",
      "1418/1418 [==============================] - 5s 3ms/step - loss: 0.0012A: 0s - loss: 0.\n",
      "Epoch 93/100\n",
      "1418/1418 [==============================] - 5s 3ms/step - loss: 0.0012\n",
      "Epoch 94/100\n",
      "1418/1418 [==============================] - 5s 3ms/step - loss: 0.0012\n",
      "Epoch 95/100\n",
      "1418/1418 [==============================] - 5s 3ms/step - loss: 0.0012\n",
      "Epoch 96/100\n"
     ]
    },
    {
     "name": "stdout",
     "output_type": "stream",
     "text": [
      "1418/1418 [==============================] - 5s 3ms/step - loss: 0.0013\n",
      "Epoch 97/100\n",
      "1418/1418 [==============================] - 5s 3ms/step - loss: 0.0012\n",
      "Epoch 98/100\n",
      "1418/1418 [==============================] - 5s 3ms/step - loss: 0.0012\n",
      "Epoch 99/100\n",
      "1418/1418 [==============================] - 5s 3ms/step - loss: 0.0012\n",
      "Epoch 100/100\n",
      "1418/1418 [==============================] - 5s 3ms/step - loss: 0.0012\n"
     ]
    },
    {
     "data": {
      "text/plain": [
       "<keras.callbacks.History at 0x256895318d0>"
      ]
     },
     "execution_count": 19,
     "metadata": {},
     "output_type": "execute_result"
    }
   ],
   "source": [
    "#execute NN\n",
    "regressor.fit(X_train, y_train, epochs=100, batch_size=32)"
   ]
  },
  {
   "cell_type": "code",
   "execution_count": 20,
   "metadata": {},
   "outputs": [],
   "source": [
    "dataset_test = pd.read_csv('IBM_test.csv')\n",
    "real_stock_price = dataset_test.iloc[:, 1:2].values"
   ]
  },
  {
   "cell_type": "code",
   "execution_count": 21,
   "metadata": {},
   "outputs": [
    {
     "data": {
      "text/plain": [
       "array([[ 158.710007],\n",
       "       [ 160.059998],\n",
       "       [ 159.710007],\n",
       "       [ 157.520004],\n",
       "       [ 156.570007],\n",
       "       [ 155.      ],\n",
       "       [ 152.25    ],\n",
       "       [ 151.210007],\n",
       "       [ 153.949997],\n",
       "       [ 152.070007],\n",
       "       [ 153.070007],\n",
       "       [ 153.339996],\n",
       "       [ 150.800003],\n",
       "       [ 147.889999],\n",
       "       [ 154.440002],\n",
       "       [ 153.460007],\n",
       "       [ 151.800003],\n",
       "       [ 155.029999],\n",
       "       [ 154.369995],\n",
       "       [ 156.75    ],\n",
       "       [ 158.669998],\n",
       "       [ 157.990005],\n",
       "       [ 158.820007],\n",
       "       [ 152.139999],\n",
       "       [ 149.190002],\n",
       "       [ 147.899994],\n",
       "       [ 145.029999],\n",
       "       [ 146.509995],\n",
       "       [ 145.789993],\n",
       "       [ 146.600006],\n",
       "       [ 146.839996]])"
      ]
     },
     "execution_count": 21,
     "metadata": {},
     "output_type": "execute_result"
    }
   ],
   "source": [
    "real_stock_price"
   ]
  },
  {
   "cell_type": "code",
   "execution_count": 22,
   "metadata": {},
   "outputs": [],
   "source": [
    "#load test-data and create test-set\n",
    "dataset_total = pd.concat((dataset_train['Open'],dataset_test['Open']),axis=0)\n",
    "inputs = dataset_total[len(dataset_total) - len(dataset_test) - 60:].values"
   ]
  },
  {
   "cell_type": "code",
   "execution_count": 23,
   "metadata": {},
   "outputs": [],
   "source": [
    "inputs = inputs.reshape(-1,1)\n",
    "inputs = sc.transform(inputs)\n",
    "X_test = []\n",
    "for i in range(60,91):\n",
    "    X_test.append(inputs[i-60:i,0])"
   ]
  },
  {
   "cell_type": "code",
   "execution_count": 24,
   "metadata": {},
   "outputs": [],
   "source": [
    "X_test = np.array(X_test)\n",
    "X_test = np.reshape(X_test, (X_test.shape[0], X_test.shape[1],1))\n",
    "predicted_stock_price = regressor.predict(X_test)\n",
    "predicted_stock_price = sc.inverse_transform(predicted_stock_price)"
   ]
  },
  {
   "cell_type": "code",
   "execution_count": 25,
   "metadata": {},
   "outputs": [
    {
     "data": {
      "image/png": "[encoded data removed]",
      "text/plain": [
       "<matplotlib.figure.Figure at 0x2568ccf0b38>"
      ]
     },
     "metadata": {},
     "output_type": "display_data"
    }
   ],
   "source": [
    "#plot true and predicted values\n",
    "plt.plot(real_stock_price, color = 'red', label = 'Real IBM Stock Price')\n",
    "plt.plot(predicted_stock_price,color='blue', label = 'Predicted IBM Stock Price')\n",
    "plt.title('IBM stock price Prediction')\n",
    "plt.xlabel('Time')\n",
    "plt.ylabel('IBM Stock Price')\n",
    "plt.legend()\n",
    "plt.show()"
   ]
  },
  {
   "cell_type": "code",
   "execution_count": null,
   "metadata": {
    "collapsed": true
   },
   "outputs": [],
   "source": []
  }
 ],
 "metadata": {
  "kernelspec": {
   "display_name": "Python 3",
   "language": "python",
   "name": "python3"
  },
  "language_info": {
   "codemirror_mode": {
    "name": "ipython",
    "version": 3
   },
   "file_extension": ".py",
   "mimetype": "text/x-python",
   "name": "python",
   "nbconvert_exporter": "python",
   "pygments_lexer": "ipython3",
   "version": "3.6.3"
  }
 },
 "nbformat": 4,
 "nbformat_minor": 2
}
